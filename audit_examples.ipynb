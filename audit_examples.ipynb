{
 "cells": [
  {
   "cell_type": "markdown",
   "metadata": {},
   "source": [
    "# This Jupyter notebook demonstrates how to reproduce the results presented in the experiments section (Sec 7) of the paper."
   ]
  },
  {
   "cell_type": "markdown",
   "metadata": {},
   "source": [
    "The implementation is in Python3, and the code for auditing algorithms are in ('DM.py').\n",
    "In order to use this package one needs to initiate an instance of the 'Auditor()' class whose parameters are a prediction model that provides the same interface as scikit-learn predictors, and some audit dataset as a pandas DataFrame.\n",
    "\n",
    "The source code for building the prediction systems that are described in the paper are also added to this package.\n",
    "That includes data preprocessing and applying standard feature selection and model validation methods. The resulting prediction models are saved in 'Data/Models' and we retrieve them in this script for auditing."
   ]
  },
  {
   "cell_type": "markdown",
   "metadata": {},
   "source": [
    "For example, let's use the Nursery/DT prediction system introduced in the paper."
   ]
  },
  {
   "cell_type": "code",
   "execution_count": 1,
   "metadata": {},
   "outputs": [],
   "source": [
    "import numpy as np\n",
    "import pandas as pd\n",
    "import pickle\n",
    "import DM as DM"
   ]
  },
  {
   "cell_type": "code",
   "execution_count": 20,
   "metadata": {
    "scrolled": true
   },
   "outputs": [],
   "source": [
    "dataset = 'Nursery'\n",
    "model = 'DT'\n",
    "n_features = 8\n",
    "with open('Data/Models/%s-%s/%d_features'%(dataset, model, n_features), 'rb') as input:\n",
    "    R = pickle.load(input)    \n",
    "clf =  R['model']\n",
    "data = R['data']"
   ]
  },
  {
   "cell_type": "markdown",
   "metadata": {},
   "source": [
    "We first set the parameters of prior Beta distributions and then initiate an auditor:"
   ]
  },
  {
   "cell_type": "code",
   "execution_count": 3,
   "metadata": {},
   "outputs": [],
   "source": [
    "beta_priors = (0.5,0.5)\n",
    "A = DM.Auditor(clf, data, beta_priors)"
   ]
  },
  {
   "cell_type": "markdown",
   "metadata": {},
   "source": [
    "We can estimate model instability with respect to each feature using population mean over the audit dataset. This procedure is called \"population audit\" and is described in Sec 3. We print the minimum instability of each feature."
   ]
  },
  {
   "cell_type": "code",
   "execution_count": 4,
   "metadata": {
    "scrolled": true
   },
   "outputs": [
    {
     "data": {
      "text/html": [
       "<div>\n",
       "<style scoped>\n",
       "    .dataframe tbody tr th:only-of-type {\n",
       "        vertical-align: middle;\n",
       "    }\n",
       "\n",
       "    .dataframe tbody tr th {\n",
       "        vertical-align: top;\n",
       "    }\n",
       "\n",
       "    .dataframe thead th {\n",
       "        text-align: right;\n",
       "    }\n",
       "</style>\n",
       "<table border=\"1\" class=\"dataframe\">\n",
       "  <thead>\n",
       "    <tr style=\"text-align: right;\">\n",
       "      <th></th>\n",
       "      <th>imputation</th>\n",
       "      <th>beta</th>\n",
       "    </tr>\n",
       "  </thead>\n",
       "  <tbody>\n",
       "    <tr>\n",
       "      <th>form</th>\n",
       "      <td>incomplete</td>\n",
       "      <td>0.023534</td>\n",
       "    </tr>\n",
       "    <tr>\n",
       "      <th>finance</th>\n",
       "      <td>convenient</td>\n",
       "      <td>0.035571</td>\n",
       "    </tr>\n",
       "    <tr>\n",
       "      <th>children</th>\n",
       "      <td>3</td>\n",
       "      <td>0.044213</td>\n",
       "    </tr>\n",
       "    <tr>\n",
       "      <th>social</th>\n",
       "      <td>nonprob</td>\n",
       "      <td>0.046451</td>\n",
       "    </tr>\n",
       "    <tr>\n",
       "      <th>housing</th>\n",
       "      <td>less_conv</td>\n",
       "      <td>0.064738</td>\n",
       "    </tr>\n",
       "    <tr>\n",
       "      <th>parents</th>\n",
       "      <td>pretentious</td>\n",
       "      <td>0.112963</td>\n",
       "    </tr>\n",
       "    <tr>\n",
       "      <th>has-nurs</th>\n",
       "      <td>improper</td>\n",
       "      <td>0.210031</td>\n",
       "    </tr>\n",
       "    <tr>\n",
       "      <th>health</th>\n",
       "      <td>priority</td>\n",
       "      <td>0.431559</td>\n",
       "    </tr>\n",
       "  </tbody>\n",
       "</table>\n",
       "</div>"
      ],
      "text/plain": [
       "           imputation      beta\n",
       "form       incomplete  0.023534\n",
       "finance    convenient  0.035571\n",
       "children            3  0.044213\n",
       "social        nonprob  0.046451\n",
       "housing     less_conv  0.064738\n",
       "parents   pretentious  0.112963\n",
       "has-nurs     improper  0.210031\n",
       "health       priority  0.431559"
      ]
     },
     "execution_count": 4,
     "metadata": {},
     "output_type": "execute_result"
    }
   ],
   "source": [
    "mean_betas = A.instability_df()\n",
    "mean_betas"
   ]
  },
  {
   "cell_type": "markdown",
   "metadata": {},
   "source": [
    "Now we illustrate the auditing tasks that are presented in the paper. Here we run the experiments using a smaller set of parameters (algorithms, budgets, confidences, etc) compared to the results that are presented in the paper. However, the code for reproducing the exact figures from the paper is also provided inline as comments.\n",
    "\n",
    "First, considering the decision problem, we check if data minimization is satisfied at 1% level."
   ]
  },
  {
   "cell_type": "code",
   "execution_count": 5,
   "metadata": {},
   "outputs": [],
   "source": [
    "DM_level = 0.01"
   ]
  },
  {
   "cell_type": "markdown",
   "metadata": {},
   "source": [
    "This task can be done with different confidence levels. We first set the confidences, the exploration algorithms, the number of times each algorithm is repeated and the maximum number of queries before terminating the algorithm if a decision cannot be made."
   ]
  },
  {
   "cell_type": "code",
   "execution_count": 6,
   "metadata": {},
   "outputs": [],
   "source": [
    "confidences = [0.99]\n",
    "algorithms = ['Uniform','TS','Greedy']\n",
    "n_runs = 3\n",
    "max_query = 6000\n",
    "\n",
    "#uncomment the following lines to get the same figures presented in the paper\n",
    "#confidences = [0.95,0.99]\n",
    "#algorithms = ['Uniform','TS','TTTS','Greedy','PM']\n",
    "#n_runs = 20\n",
    "#max_query = 200000"
   ]
  },
  {
   "cell_type": "markdown",
   "metadata": {},
   "source": [
    "The following code block runs the auditing procedure for the decision problem for the given exploration algorithms, confidences, and the given number of repetitions and saves the results in a dataframe."
   ]
  },
  {
   "cell_type": "code",
   "execution_count": 7,
   "metadata": {
    "scrolled": true
   },
   "outputs": [
    {
     "name": "stdout",
     "output_type": "stream",
     "text": [
      "{'algorithm': 'Uniform', 'confidence': 0.99, 'ID': 0, 'decision': 'undecided', 'queries': 6001}\n",
      "{'algorithm': 'TS', 'confidence': 0.99, 'ID': 0, 'decision': 'YES', 'queries': 5601}\n",
      "{'algorithm': 'Greedy', 'confidence': 0.99, 'ID': 0, 'decision': 'YES', 'queries': 2063}\n",
      "{'algorithm': 'Uniform', 'confidence': 0.99, 'ID': 1, 'decision': 'undecided', 'queries': 6001}\n",
      "{'algorithm': 'TS', 'confidence': 0.99, 'ID': 1, 'decision': 'YES', 'queries': 2511}\n",
      "{'algorithm': 'Greedy', 'confidence': 0.99, 'ID': 1, 'decision': 'YES', 'queries': 2530}\n",
      "{'algorithm': 'Uniform', 'confidence': 0.99, 'ID': 2, 'decision': 'undecided', 'queries': 6001}\n",
      "{'algorithm': 'TS', 'confidence': 0.99, 'ID': 2, 'decision': 'YES', 'queries': 5787}\n",
      "{'algorithm': 'Greedy', 'confidence': 0.99, 'ID': 2, 'decision': 'YES', 'queries': 3067}\n"
     ]
    }
   ],
   "source": [
    "records = []\n",
    "for ID in range(n_runs):\n",
    "    for confidence in confidences:\n",
    "        for alg in algorithms:\n",
    "            func = getattr(A, '%s_decision'%alg)\n",
    "            R = func(DM_level, confidence, max_query)\n",
    "            d = {'algorithm':alg, 'confidence':confidence, 'ID':ID,\n",
    "                 'decision':R[1], 'queries':R[2]}\n",
    "            records.append(d)\n",
    "            print(d)\n",
    "R = pd.DataFrame.from_records(records)\n",
    "decisions = R.groupby(['algorithm','confidence'])['decision'].apply(list)\n",
    "decisions_set = decisions.apply(np.unique)\n",
    "decisions_counts = decisions.apply(np.unique, return_counts=True)\n",
    "D = R[['algorithm','confidence','queries']]\n",
    "means = D.groupby(['algorithm','confidence'])['queries'].agg('mean')\n",
    "stds = D.groupby(['algorithm','confidence'])['queries'].agg('std')\n",
    "max_height = means.groupby('algorithm').max()[algorithms].max()\n",
    "max_std = stds.groupby('algorithm').max()[algorithms].max()"
   ]
  },
  {
   "cell_type": "markdown",
   "metadata": {},
   "source": [
    "We then visualize the results in  a bar chart similar to Figure 1 in the paper."
   ]
  },
  {
   "cell_type": "code",
   "execution_count": 8,
   "metadata": {},
   "outputs": [],
   "source": [
    "import matplotlib\n",
    "import matplotlib.pyplot as plt\n",
    "from matplotlib import rc\n",
    "rc('font', size=14)\n",
    "rc('text', usetex=True)"
   ]
  },
  {
   "cell_type": "code",
   "execution_count": 9,
   "metadata": {},
   "outputs": [
    {
     "data": {
      "text/plain": [
       "<matplotlib.legend.Legend at 0x120ce8f40>"
      ]
     },
     "execution_count": 9,
     "metadata": {},
     "output_type": "execute_result"
    },
    {
     "data": {
      "image/png": "[encoded data removed]",
      "text/plain": [
       "<Figure size 432x288 with 1 Axes>"
      ]
     },
     "metadata": {
      "needs_background": "light"
     },
     "output_type": "display_data"
    }
   ],
   "source": [
    "width = 0.1  # the width of the bars\n",
    "fig = plt.figure()\n",
    "ax = fig.add_subplot(1,1,1)\n",
    "bar_positions = np.arange(len(confidences))\n",
    "for id1, alg in enumerate(algorithms):\n",
    "    rects = ax.bar(bar_positions+(id1*width), means.loc[alg].values,\n",
    "                   yerr=stds.loc[alg].values, width = width, label=alg)\n",
    "    for id2,c in enumerate(confidences):\n",
    "        Z = zip(decisions_counts[(alg,c)][0],decisions_counts[(alg,c)][1])\n",
    "        l = len(decisions_set[(alg,c)])\n",
    "        h = max_height\n",
    "        ax.annotate(''.join(['%s(%d)\\n'%(a[0],a[1]) for a in Z]),\n",
    "                    xy=((bar_positions[id2]+(id1)*width),\n",
    "                         means[(alg,c)]+ stds[(alg,c)] +(h*0.07*l)),\n",
    "                    va='top', color='red', fontsize=10)\n",
    "ax.set_xticks(bar_positions+(width*(len(algorithms)//2)))\n",
    "ax.set_xticklabels([r'$%.2f$'%c for c in confidences])\n",
    "ax.set_xlabel('Confidence', fontsize = 16)\n",
    "ax.set_ylabel('Number of queries', fontsize = 16)\n",
    "ax.set_ylim((0,(max_height + max_std)*1.1))\n",
    "ax.legend(bbox_to_anchor=(0., 1.02, 1., .102), loc='lower left',ncol=2,mode=\"expand\", borderaxespad=0., fontsize=12)"
   ]
  },
  {
   "cell_type": "markdown",
   "metadata": {},
   "source": [
    "Now we consider the measurement task (given a fixed confidence) for different query budgets. You can choose the exploration algorithms that you want to compare as the following. "
   ]
  },
  {
   "cell_type": "code",
   "execution_count": 10,
   "metadata": {},
   "outputs": [],
   "source": [
    "confidence = 0.95"
   ]
  },
  {
   "cell_type": "code",
   "execution_count": 11,
   "metadata": {},
   "outputs": [],
   "source": [
    "budgets = [1000,5000,10000]\n",
    "algorithms = ['Uniform','TS']\n",
    "n_runs = 3\n",
    "\n",
    "#uncomment the following lines to get the same figures presented in the paper\n",
    "#budgets = [1000,5000,10000,15000]\n",
    "#algorithms = ['Uniform','TS','TTTS','Greedy','PM']\n",
    "#n_runs = 20"
   ]
  },
  {
   "cell_type": "code",
   "execution_count": 12,
   "metadata": {},
   "outputs": [
    {
     "name": "stdout",
     "output_type": "stream",
     "text": [
      "{'algorithm': 'Uniform', 'budget': 1000, 'ID': 0, 'DM_level': 5.841255187988281e-06}\n",
      "{'algorithm': 'TS', 'budget': 1000, 'ID': 0, 'DM_level': 0.00577545166015625}\n",
      "{'algorithm': 'Uniform', 'budget': 5000, 'ID': 0, 'DM_level': 0.002552032470703125}\n",
      "{'algorithm': 'TS', 'budget': 5000, 'ID': 0, 'DM_level': 0.01506805419921875}\n",
      "{'algorithm': 'Uniform', 'budget': 10000, 'ID': 0, 'DM_level': 0.006011962890625}\n",
      "{'algorithm': 'TS', 'budget': 10000, 'ID': 0, 'DM_level': 0.018070220947265625}\n",
      "{'algorithm': 'Uniform', 'budget': 1000, 'ID': 1, 'DM_level': 5.841255187988281e-06}\n",
      "{'algorithm': 'TS', 'budget': 1000, 'ID': 1, 'DM_level': 0.00272369384765625}\n",
      "{'algorithm': 'Uniform', 'budget': 5000, 'ID': 1, 'DM_level': 0.0009517669677734375}\n",
      "{'algorithm': 'TS', 'budget': 5000, 'ID': 1, 'DM_level': 0.0158843994140625}\n",
      "{'algorithm': 'Uniform', 'budget': 10000, 'ID': 1, 'DM_level': 0.0045013427734375}\n",
      "{'algorithm': 'TS', 'budget': 10000, 'ID': 1, 'DM_level': 0.016025543212890625}\n",
      "{'algorithm': 'Uniform', 'budget': 1000, 'ID': 2, 'DM_level': 3.293156623840332e-06}\n",
      "{'algorithm': 'TS', 'budget': 1000, 'ID': 2, 'DM_level': 0.003696441650390625}\n",
      "{'algorithm': 'Uniform', 'budget': 5000, 'ID': 2, 'DM_level': 0.0009098052978515625}\n",
      "{'algorithm': 'TS', 'budget': 5000, 'ID': 2, 'DM_level': 0.01438140869140625}\n",
      "{'algorithm': 'Uniform', 'budget': 10000, 'ID': 2, 'DM_level': 0.007965087890625}\n",
      "{'algorithm': 'TS', 'budget': 10000, 'ID': 2, 'DM_level': 0.017246246337890625}\n"
     ]
    }
   ],
   "source": [
    "records = []\n",
    "for ID in range(n_runs):\n",
    "    for budget in budgets:\n",
    "        for alg in algorithms:\n",
    "            func = getattr(A, '%s_measurement'%alg)\n",
    "            d = {'algorithm':alg, 'budget':budget, 'ID':ID, \n",
    "                 'DM_level':func(budget, confidence)}\n",
    "            records.append(d)\n",
    "            print(d)\n",
    "R = pd.DataFrame.from_records(records)\n",
    "D = R[['algorithm','budget','DM_level']]\n",
    "means = D.groupby(['algorithm','budget'])['DM_level'].agg('mean')\n",
    "stds = D.groupby(['algorithm','budget'])['DM_level'].agg('std')"
   ]
  },
  {
   "cell_type": "markdown",
   "metadata": {},
   "source": [
    "In order to have a comparison point if the were no limit on the query budget, we compute the probabilistic data\n",
    "minimization level using the population audit, i.e., using all the data points in the audit dataset.\n",
    "Notice that this procedure is usually not feasible in practice since the number of system queries an auditor can ask\n",
    "is limited."
   ]
  },
  {
   "cell_type": "code",
   "execution_count": 13,
   "metadata": {},
   "outputs": [],
   "source": [
    "A.population_audit()\n",
    "population_level = A.DM_FWE_LB(confidence)"
   ]
  },
  {
   "cell_type": "markdown",
   "metadata": {},
   "source": [
    "We plot the resulting data minimization levels as presented in Figure 2."
   ]
  },
  {
   "cell_type": "code",
   "execution_count": 14,
   "metadata": {},
   "outputs": [
    {
     "data": {
      "text/plain": [
       "(-0.001, 0.023561477661132816)"
      ]
     },
     "execution_count": 14,
     "metadata": {},
     "output_type": "execute_result"
    },
    {
     "data": {
      "image/png": "[encoded data removed]",
      "text/plain": [
       "<Figure size 432x288 with 1 Axes>"
      ]
     },
     "metadata": {
      "needs_background": "light"
     },
     "output_type": "display_data"
    }
   ],
   "source": [
    "fig = plt.figure()\n",
    "ax = fig.add_subplot(1,1,1)\n",
    "offset = 0\n",
    "h_space = 400\n",
    "for idx, alg in enumerate(algorithms):\n",
    "    plt.errorbar(means[alg].index + offset, means[alg].values, stds[alg].values,\n",
    "                 ls='--', lw=0.9 , marker='o', markersize=7,\n",
    "                 fillstyle='full', markeredgewidth=0.5, label = alg)\n",
    "    offset += h_space\n",
    "ax.axhline(population_level, ls='--', label='population audit \\n (%dK queries)'%(\n",
    "                                        len(A.Y)*len(A.features)*\n",
    "                                        max(map(len,list(A.domain.values())))//1000))\n",
    "ax.set_xticks(budgets)\n",
    "ax.set_xticklabels(['$%dK$'%(budget//1000) for budget in budgets])\n",
    "ax.set_xlabel('Budget', fontsize = 16)\n",
    "ax.set_ylabel('Data minimization level', fontsize = 16)\n",
    "ax.legend(bbox_to_anchor=(1.01, 1), loc='upper left', ncol=1,fontsize=10)\n",
    "ax.set_ylim((-0.001,population_level*1.1))"
   ]
  },
  {
   "cell_type": "markdown",
   "metadata": {},
   "source": [
    "Finally we consider the hypothetical scenario in which a prediction system has an input that is\n",
    "not actually used by the prediction model, i.e., the system collects\n",
    "excessive information from its users.\n",
    "We obtain such system by embedding the Census/DT model in another prediction system that asks for\n",
    "an additional attribute of the Census dataset but returns the output of\n",
    "the embedded model. The source code for building this system is provided in 'census_model_redundant.py'.\n",
    "Here we retrieve that model and run the decision auditing problem for 1% data minimization level.\n",
    "The performance of different exploration algorithms are compared in a bar chart similar to Figure 3."
   ]
  },
  {
   "cell_type": "markdown",
   "metadata": {},
   "source": [
    "Retrieve the model:"
   ]
  },
  {
   "cell_type": "code",
   "execution_count": 21,
   "metadata": {},
   "outputs": [],
   "source": [
    "dataset = 'Census'\n",
    "model = 'DT'\n",
    "n_features = 6\n",
    "with open('Data/Models/%s-%s/%d_features-redundant'%(dataset, model, n_features), 'rb') as input:\n",
    "    R = pickle.load(input)    \n",
    "clf =  R['model']\n",
    "data = R['data']    \n",
    "A = DM.Auditor(clf, data, beta_priors)"
   ]
  },
  {
   "cell_type": "markdown",
   "metadata": {},
   "source": [
    "Set the parameters:"
   ]
  },
  {
   "cell_type": "code",
   "execution_count": 16,
   "metadata": {},
   "outputs": [],
   "source": [
    "DM_level = 0.01\n",
    "\n",
    "confidences = [0.95]\n",
    "algorithms = ['Uniform','TS','Greedy']\n",
    "n_runs = 3\n",
    "max_query = 6000\n",
    "\n",
    "#uncomment the following lines to get the same figures presented in the paper\n",
    "#confidences = [0.95,0.99]\n",
    "#algorithms = ['Uniform','TS','TTTS','Greedy','PM']\n",
    "#n_runs = 20\n",
    "#max_query = 200000"
   ]
  },
  {
   "cell_type": "markdown",
   "metadata": {},
   "source": [
    "Run auditing algorithms and plot the average number of queries used by each algorithm:"
   ]
  },
  {
   "cell_type": "code",
   "execution_count": 17,
   "metadata": {
    "scrolled": true
   },
   "outputs": [
    {
     "name": "stdout",
     "output_type": "stream",
     "text": [
      "{'algorithm': 'Uniform', 'confidence': 0.95, 'ID': 0, 'decision': 'undecided', 'queries': 6001}\n",
      "{'algorithm': 'TS', 'confidence': 0.95, 'ID': 0, 'decision': 'NO', 'queries': 2188}\n",
      "Warning: some arm are not investigated at all.\n",
      "{'algorithm': 'Greedy', 'confidence': 0.95, 'ID': 0, 'decision': 'NO', 'queries': 1445}\n",
      "{'algorithm': 'Uniform', 'confidence': 0.95, 'ID': 1, 'decision': 'undecided', 'queries': 6001}\n",
      "{'algorithm': 'TS', 'confidence': 0.95, 'ID': 1, 'decision': 'NO', 'queries': 2227}\n",
      "Warning: some arm are not investigated at all.\n",
      "{'algorithm': 'Greedy', 'confidence': 0.95, 'ID': 1, 'decision': 'NO', 'queries': 1555}\n",
      "{'algorithm': 'Uniform', 'confidence': 0.95, 'ID': 2, 'decision': 'undecided', 'queries': 6001}\n",
      "{'algorithm': 'TS', 'confidence': 0.95, 'ID': 2, 'decision': 'NO', 'queries': 2212}\n",
      "Warning: some arm are not investigated at all.\n",
      "{'algorithm': 'Greedy', 'confidence': 0.95, 'ID': 2, 'decision': 'NO', 'queries': 1502}\n"
     ]
    }
   ],
   "source": [
    "records = []\n",
    "for ID in range(0,n_runs):\n",
    "    for confidence in confidences:\n",
    "        for alg in algorithms:\n",
    "            func = getattr(A, '%s_decision'%alg)\n",
    "            R = func(DM_level, confidence, max_query)\n",
    "            d = {'algorithm':alg, 'confidence':confidence, 'ID':ID,\n",
    "                 'decision':R[1], 'queries':R[2]}\n",
    "            records.append(d)\n",
    "            print(d)\n",
    "R = pd.DataFrame.from_records(records)\n",
    "decisions = R.groupby(['algorithm','confidence'])['decision'].apply(list)\n",
    "decisions_set = decisions.apply(np.unique)\n",
    "decisions_counts = decisions.apply(np.unique, return_counts=True)\n",
    "D = R[['algorithm','confidence','queries']]\n",
    "means = D.groupby(['algorithm','confidence'])['queries'].agg('mean')\n",
    "stds = D.groupby(['algorithm','confidence'])['queries'].agg('std')\n",
    "max_height = means.groupby('algorithm').max()[algorithms].max()\n",
    "max_std = stds.groupby('algorithm').max()[algorithms].max()"
   ]
  },
  {
   "cell_type": "code",
   "execution_count": 18,
   "metadata": {},
   "outputs": [
    {
     "data": {
      "text/plain": [
       "<matplotlib.legend.Legend at 0x11faf68b0>"
      ]
     },
     "execution_count": 18,
     "metadata": {},
     "output_type": "execute_result"
    },
    {
     "data": {
      "image/png": "[encoded data removed]",
      "text/plain": [
       "<Figure size 432x288 with 1 Axes>"
      ]
     },
     "metadata": {
      "needs_background": "light"
     },
     "output_type": "display_data"
    }
   ],
   "source": [
    "width = 0.1  # the width of the bars\n",
    "fig = plt.figure()\n",
    "ax = fig.add_subplot(1,1,1)\n",
    "bar_positions = np.arange(len(confidences))\n",
    "for id1, alg in enumerate(algorithms):\n",
    "    rects = ax.bar(bar_positions+(id1*width), means.loc[alg].values,\n",
    "                   yerr=stds.loc[alg].values, width = width, label=alg)\n",
    "    for id2,c in enumerate(confidences):\n",
    "        Z = zip(decisions_counts[(alg,c)][0],decisions_counts[(alg,c)][1])\n",
    "        l = len(decisions_set[(alg,c)])\n",
    "        h = max_height\n",
    "        ax.annotate(''.join(['%s(%d)\\n'%(a[0],a[1]) for a in Z]),\n",
    "                    xy=((bar_positions[id2]+(id1)*width),\n",
    "                         means[(alg,c)]+ stds[(alg,c)] +(h*0.07*l)),\n",
    "                    va='top', color='red', fontsize=10)\n",
    "ax.set_xticks(bar_positions+(width*(len(algorithms)//2)))\n",
    "ax.set_xticklabels([r'$%.2f$'%c for c in confidences])\n",
    "ax.set_xlabel('Confidence', fontsize = 16)\n",
    "ax.set_ylabel('Number of queries', fontsize = 16)\n",
    "ax.set_ylim((0,(max_height + max_std)*1.1))\n",
    "ax.legend(bbox_to_anchor=(0., 1.02, 1., .102), loc='lower left',ncol=2,mode=\"expand\", borderaxespad=0., fontsize=12)"
   ]
  }
 ],
 "metadata": {
  "kernelspec": {
   "display_name": "Python 3",
   "language": "python",
   "name": "python3"
  },
  "language_info": {
   "codemirror_mode": {
    "name": "ipython",
    "version": 3
   },
   "file_extension": ".py",
   "mimetype": "text/x-python",
   "name": "python",
   "nbconvert_exporter": "python",
   "pygments_lexer": "ipython3",
   "version": "3.8.3"
  }
 },
 "nbformat": 4,
 "nbformat_minor": 4
}
